{
 "cells": [
  {
   "cell_type": "code",
   "execution_count": 3,
   "id": "87a20c00-0a89-458c-afa4-b72255963cc5",
   "metadata": {},
   "outputs": [
    {
     "name": "stdout",
     "output_type": "stream",
     "text": [
      "The even terms of the Fibonancci sequence are [2, 8, 34, 144, 610, 2584, 10946, 46368, 196418, 832040, 3524578]\n",
      "4613732\n"
     ]
    }
   ],
   "source": [
    "fib_list = []\n",
    "def fib():\n",
    "    a = 0\n",
    "    b = 1\n",
    "    while True:\n",
    "        yield b\n",
    "        b = a + b\n",
    "        a = b - a\n",
    "for num in fib():\n",
    "    if num > 4000000:\n",
    "        break\n",
    "    elif num % 2 == 0:\n",
    "        fib_list.append(num)\n",
    "print(\"The even terms of the Fibonancci sequence are\", fib_list) \n",
    "fib_sum = sum(fib_list)\n",
    "print(fib_sum)"
   ]
  }
 ],
 "metadata": {
  "kernelspec": {
   "display_name": "Python 3 (ipykernel)",
   "language": "python",
   "name": "python3"
  },
  "language_info": {
   "codemirror_mode": {
    "name": "ipython",
    "version": 3
   },
   "file_extension": ".py",
   "mimetype": "text/x-python",
   "name": "python",
   "nbconvert_exporter": "python",
   "pygments_lexer": "ipython3",
   "version": "3.11.4"
  }
 },
 "nbformat": 4,
 "nbformat_minor": 5
}
