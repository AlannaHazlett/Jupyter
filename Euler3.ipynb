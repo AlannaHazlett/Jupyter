{
 "cells": [
  {
   "cell_type": "code",
   "execution_count": 7,
   "id": "9dcf20d7-8d77-4d5f-9db7-437f12603427",
   "metadata": {},
   "outputs": [
    {
     "name": "stdout",
     "output_type": "stream",
     "text": [
      "6857\n"
     ]
    }
   ],
   "source": [
    "def prime(quotient):\n",
    "    factors = []\n",
    "    divisor = 2\n",
    "    while quotient > 1:\n",
    "        while quotient % divisor == 0:\n",
    "            factors.append(divisor)\n",
    "            quotient = quotient / divisor   \n",
    "        divisor = divisor + 1\n",
    "    return factors\n",
    "\n",
    "\n",
    "def main():\n",
    "    prime_factors = prime(600851475143)\n",
    "    max_prime = max(prime_factors)\n",
    "    print(max_prime)\n",
    "\n",
    "main()"
   ]
  },
  {
   "cell_type": "code",
   "execution_count": null,
   "id": "f9498835-ccd9-4e25-bdfd-fd58b919f709",
   "metadata": {},
   "outputs": [],
   "source": []
  }
 ],
 "metadata": {
  "kernelspec": {
   "display_name": "Python 3 (ipykernel)",
   "language": "python",
   "name": "python3"
  },
  "language_info": {
   "codemirror_mode": {
    "name": "ipython",
    "version": 3
   },
   "file_extension": ".py",
   "mimetype": "text/x-python",
   "name": "python",
   "nbconvert_exporter": "python",
   "pygments_lexer": "ipython3",
   "version": "3.11.4"
  }
 },
 "nbformat": 4,
 "nbformat_minor": 5
}
